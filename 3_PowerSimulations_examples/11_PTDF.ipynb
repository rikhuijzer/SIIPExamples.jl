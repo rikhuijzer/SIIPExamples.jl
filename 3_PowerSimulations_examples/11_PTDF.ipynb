{
 "cells": [
  {
   "cell_type": "markdown",
   "source": [
    "# PTDF with [PowerSimulations.jl](https://github.com/NREL-SIIP/PowerSimulations.jl)"
   ],
   "metadata": {}
  },
  {
   "cell_type": "markdown",
   "source": [
    "**Originally Contributed by**: Sourabh Dalvi"
   ],
   "metadata": {}
  },
  {
   "cell_type": "markdown",
   "source": [
    "## Introduction"
   ],
   "metadata": {}
  },
  {
   "cell_type": "markdown",
   "source": [
    "PowerSimulations.jl supports linear PTDF optimal power flow formulation. This example shows a\n",
    "single multi-period optimization of economic dispatch with a linearized DC-OPF representation of\n",
    "using PTDF power flow and how to extract duals values or locational marginal prices for energy."
   ],
   "metadata": {}
  },
  {
   "cell_type": "markdown",
   "source": [
    "## Dependencies"
   ],
   "metadata": {}
  },
  {
   "outputs": [],
   "cell_type": "code",
   "source": [
    "using SIIPExamples\n",
    "using PowerSystems\n",
    "using PowerSimulations\n",
    "using PowerSystemCaseBuilder\n",
    "using DataFrames"
   ],
   "metadata": {},
   "execution_count": null
  },
  {
   "cell_type": "markdown",
   "source": [
    "Since we'll be retrieving duals, we need a solver that returns duals values\n",
    "here we use Ipopt."
   ],
   "metadata": {}
  },
  {
   "outputs": [],
   "cell_type": "code",
   "source": [
    "using Ipopt\n",
    "solver = optimizer_with_attributes(Ipopt.Optimizer)"
   ],
   "metadata": {},
   "execution_count": null
  },
  {
   "cell_type": "markdown",
   "source": [
    "We can use the same RTS data and some of the initialization as in\n",
    "[OperationsProblem example](https://nbviewer.jupyter.org/github/NREL-SIIP/SIIPExamples.jl/blob/master/notebook/3_PowerSimulations_examples/01_operations_problems.ipynb)"
   ],
   "metadata": {}
  },
  {
   "outputs": [],
   "cell_type": "code",
   "source": [
    "sys = build_system(PSITestSystems, \"modified_RTS_GMLC_DA_sys\")"
   ],
   "metadata": {},
   "execution_count": null
  },
  {
   "cell_type": "markdown",
   "source": [
    "Here, we want do define an economic dispatch (linear generation decisions) with\n",
    "linear DC-OPF using PTDF network representation.\n",
    "So, starting with the network, we can select from _almost_ any of the endpoints on this\n",
    "tree:"
   ],
   "metadata": {}
  },
  {
   "outputs": [],
   "cell_type": "code",
   "source": [
    "print_tree(PowerSimulations.PM.AbstractPowerModel)"
   ],
   "metadata": {},
   "execution_count": null
  },
  {
   "cell_type": "markdown",
   "source": [
    "For now, let's just choose a standard PTDF formulation."
   ],
   "metadata": {}
  },
  {
   "outputs": [],
   "cell_type": "code",
   "source": [
    "ed_template = template_economic_dispatch(network = StandardPTDFModel)"
   ],
   "metadata": {},
   "execution_count": null
  },
  {
   "cell_type": "markdown",
   "source": [
    "Currently  energy budget data isn't stored in the RTS-GMLC dataset."
   ],
   "metadata": {}
  },
  {
   "outputs": [],
   "cell_type": "code",
   "source": [
    "set_device_model!(ed_template, HydroEnergyReservoir, HydroDispatchRunOfRiver)"
   ],
   "metadata": {},
   "execution_count": null
  },
  {
   "cell_type": "markdown",
   "source": [
    "Calculate the PTDF matrix."
   ],
   "metadata": {}
  },
  {
   "outputs": [],
   "cell_type": "code",
   "source": [
    "PTDF_matrix = PTDF(sys)"
   ],
   "metadata": {},
   "execution_count": null
  },
  {
   "cell_type": "markdown",
   "source": [
    "Now we can build a 4-hour economic dispatch / OPF problem with the RTS data.\n",
    "Here, we have to pass the keyword argument `constraint_duals` to OperationsProblem\n",
    "with the name of the constraint for which duals are required for them to be returned in the results."
   ],
   "metadata": {}
  },
  {
   "outputs": [],
   "cell_type": "code",
   "source": [
    "problem = OperationsProblem(\n",
    "    EconomicDispatchProblem,\n",
    "    ed_template,\n",
    "    sys,\n",
    "    horizon = 1,\n",
    "    optimizer = solver,\n",
    "    balance_slack_variables = true,\n",
    "    constraint_duals = [\n",
    "        :CopperPlateBalance,\n",
    "        :network_flow__Line,\n",
    "        :network_flow__TapTransformer,\n",
    "    ],\n",
    "    PTDF = PTDF_matrix,\n",
    ")\n",
    "build!(problem, output_dir = mktempdir())"
   ],
   "metadata": {},
   "execution_count": null
  },
  {
   "cell_type": "markdown",
   "source": [
    "And solve the problem and collect the results"
   ],
   "metadata": {}
  },
  {
   "outputs": [],
   "cell_type": "code",
   "source": [
    "solve!(problem)"
   ],
   "metadata": {},
   "execution_count": null
  },
  {
   "cell_type": "markdown",
   "source": [
    "Here we collect the dual values from the results for the `:CopperPlateBalance` and `:network_flow`\n",
    "constraints. In the case of PTDF network formulation we need to compute the final LMP for each bus in the system by\n",
    "subtracting the duals (μ) of `:network_flow` constraints multiplied by the PTDF matrix\n",
    "from the  dual (λ) of `:CopperPlateBalance` constraint."
   ],
   "metadata": {}
  },
  {
   "outputs": [],
   "cell_type": "code",
   "source": [
    "res = ProblemResults(problem)\n",
    "duals = get_duals(res)\n",
    "λ = convert(Array, duals[:CopperPlateBalance][:, :CopperPlateBalance])\n",
    "flow_duals = outerjoin(\n",
    "    [duals[k] for k in [:network_flow__Line, :network_flow__TapTransformer]]...,\n",
    "    on = :DateTime,\n",
    ")\n",
    "μ = Matrix(flow_duals[:, PTDF_matrix.axes[1]])"
   ],
   "metadata": {},
   "execution_count": null
  },
  {
   "cell_type": "markdown",
   "source": [
    "Here we create Dict to store the calculate congestion component of the LMP which is a product of μ and the PTDF matrix."
   ],
   "metadata": {}
  },
  {
   "outputs": [],
   "cell_type": "code",
   "source": [
    "buses = get_components(Bus, sys)\n",
    "congestion_lmp = Dict()\n",
    "for bus in buses\n",
    "    congestion_lmp[get_name(bus)] = μ * PTDF_matrix[:, get_number(bus)]\n",
    "end\n",
    "congestion_lmp = DataFrame(congestion_lmp)"
   ],
   "metadata": {},
   "execution_count": null
  },
  {
   "cell_type": "markdown",
   "source": [
    "Finally here we get the LMP for each node in a lossless DC-OPF using the PTDF formulation."
   ],
   "metadata": {}
  },
  {
   "outputs": [],
   "cell_type": "code",
   "source": [
    "LMP = λ .- congestion_lmp"
   ],
   "metadata": {},
   "execution_count": null
  },
  {
   "cell_type": "markdown",
   "source": [
    "---\n",
    "\n",
    "*This notebook was generated using [Literate.jl](https://github.com/fredrikekre/Literate.jl).*"
   ],
   "metadata": {}
  }
 ],
 "nbformat_minor": 3,
 "metadata": {
  "language_info": {
   "file_extension": ".jl",
   "mimetype": "application/julia",
   "name": "julia",
   "version": "1.7.1"
  },
  "kernelspec": {
   "name": "julia-1.7",
   "display_name": "Julia 1.7.1",
   "language": "julia"
  }
 },
 "nbformat": 4
}
