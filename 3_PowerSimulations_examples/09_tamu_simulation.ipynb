{
 "cells": [
  {
   "cell_type": "markdown",
   "source": [
    "# Simulations with TAMU data and [PowerSimulations.jl](https://github.com/NREL/PowerSimulations.jl)"
   ],
   "metadata": {}
  },
  {
   "cell_type": "markdown",
   "source": [
    "**Originally Contributed by**: Clayton Barrows"
   ],
   "metadata": {}
  },
  {
   "cell_type": "markdown",
   "source": [
    "## Introduction"
   ],
   "metadata": {}
  },
  {
   "cell_type": "markdown",
   "source": [
    "This is a basic simulation example using the [TAMU Cases](https://electricgrids.engr.tamu.edu/)."
   ],
   "metadata": {}
  },
  {
   "cell_type": "markdown",
   "source": [
    "## Dependencies"
   ],
   "metadata": {}
  },
  {
   "outputs": [],
   "cell_type": "code",
   "source": [
    "using SIIPExamples\n",
    "pkgpath = dirname(dirname(pathof(SIIPExamples)))\n",
    "using Dates"
   ],
   "metadata": {},
   "execution_count": 1
  },
  {
   "cell_type": "markdown",
   "source": [
    "### Modeling Packages"
   ],
   "metadata": {}
  },
  {
   "outputs": [],
   "cell_type": "code",
   "source": [
    "using PowerSystems\n",
    "using PowerSimulations\n",
    "using PowerSystemCaseBuilder"
   ],
   "metadata": {},
   "execution_count": 2
  },
  {
   "cell_type": "markdown",
   "source": [
    "### Optimization packages\n",
    "For this simple example, we can use the Cbc solver with a relatively relaxed tolerance."
   ],
   "metadata": {}
  },
  {
   "outputs": [
    {
     "output_type": "execute_result",
     "data": {
      "text/plain": "MathOptInterface.OptimizerWithAttributes(Cbc.Optimizer, Pair{MathOptInterface.AbstractOptimizerAttribute, Any}[MathOptInterface.RawParameter(\"logLevel\") => 1, MathOptInterface.RawParameter(\"ratioGap\") => 0.5])"
     },
     "metadata": {},
     "execution_count": 3
    }
   ],
   "cell_type": "code",
   "source": [
    "using Cbc #solver\n",
    "solver = optimizer_with_attributes(Cbc.Optimizer, \"logLevel\" => 1, \"ratioGap\" => 0.5)"
   ],
   "metadata": {},
   "execution_count": 3
  },
  {
   "cell_type": "markdown",
   "source": [
    "### Create a `System` from TAMU data\n",
    "We have included some of the TAMU cases (with truncated time series info)\n",
    "in the PowerSystemCaseBuilder testing, so we can just use that."
   ],
   "metadata": {}
  },
  {
   "outputs": [
    {
     "name": "stdout",
     "output_type": "stream",
     "text": [
      "┌ Info: Building new system tamu_ACTIVSg2000_sys from raw data\n",
      "└   sys_descriptor.raw_data = \"/home/runner/.julia/packages/PowerSystemCaseBuilder/XPh1v/data\"\n",
      "[ Info: The PSS(R)E parser currently supports buses, loads, shunts, generators, branches, transformers, and dc lines\n",
      "[ Info: The PSS(R)E parser currently supports buses, loads, shunts, generators, branches, transformers, and dc lines\n",
      "[ Info: Switched shunt converted to fixed shunt, with default value gs=0.0\n",
      "[ Info: angmin and angmax values are 0, widening these values on branch 2243 to +/- 60.0 deg.\n",
      "[ Info: angmin and angmax values are 0, widening these values on branch 1881 to +/- 60.0 deg.\n",
      "[ Info: angmin and angmax values are 0, widening these values on branch 1907 to +/- 60.0 deg.\n",
      "[ Info: angmin and angmax values are 0, widening these values on branch 2923 to +/- 60.0 deg.\n",
      "[ Info: angmin and angmax values are 0, widening these values on branch 599 to +/- 60.0 deg.\n",
      "[ Info: angmin and angmax values are 0, widening these values on branch 2491 to +/- 60.0 deg.\n",
      "[ Info: angmin and angmax values are 0, widening these values on branch 228 to +/- 60.0 deg.\n",
      "[ Info: angmin and angmax values are 0, widening these values on branch 2590 to +/- 60.0 deg.\n",
      "[ Info: angmin and angmax values are 0, widening these values on branch 2579 to +/- 60.0 deg.\n",
      "[ Info: angmin and angmax values are 0, widening these values on branch 1880 to +/- 60.0 deg.\n",
      "[ Info: angmin and angmax values are 0, widening these values on branch 2562 to +/- 60.0 deg.\n",
      "[ Info: angmin and angmax values are 0, widening these values on branch 1106 to +/- 60.0 deg.\n",
      "[ Info: angmin and angmax values are 0, widening these values on branch 2366 to +/- 60.0 deg.\n",
      "[ Info: angmin and angmax values are 0, widening these values on branch 3196 to +/- 60.0 deg.\n",
      "[ Info: angmin and angmax values are 0, widening these values on branch 1783 to +/- 60.0 deg.\n",
      "[ Info: angmin and angmax values are 0, widening these values on branch 928 to +/- 60.0 deg.\n",
      "[ Info: angmin and angmax values are 0, widening these values on branch 859 to +/- 60.0 deg.\n",
      "[ Info: angmin and angmax values are 0, widening these values on branch 1863 to +/- 60.0 deg.\n",
      "[ Info: angmin and angmax values are 0, widening these values on branch 561 to +/- 60.0 deg.\n",
      "[ Info: angmin and angmax values are 0, widening these values on branch 1825 to +/- 60.0 deg.\n",
      "[ Info: angmin and angmax values are 0, widening these values on branch 2631 to +/- 60.0 deg.\n",
      "[ Info: angmin and angmax values are 0, widening these values on branch 2714 to +/- 60.0 deg.\n",
      "[ Info: angmin and angmax values are 0, widening these values on branch 3157 to +/- 60.0 deg.\n",
      "[ Info: angmin and angmax values are 0, widening these values on branch 815 to +/- 60.0 deg.\n",
      "[ Info: angmin and angmax values are 0, widening these values on branch 981 to +/- 60.0 deg.\n",
      "[ Info: angmin and angmax values are 0, widening these values on branch 1429 to +/- 60.0 deg.\n",
      "[ Info: angmin and angmax values are 0, widening these values on branch 39 to +/- 60.0 deg.\n",
      "[ Info: angmin and angmax values are 0, widening these values on branch 2713 to +/- 60.0 deg.\n",
      "[ Info: angmin and angmax values are 0, widening these values on branch 112 to +/- 60.0 deg.\n",
      "[ Info: angmin and angmax values are 0, widening these values on branch 3153 to +/- 60.0 deg.\n",
      "[ Info: angmin and angmax values are 0, widening these values on branch 1665 to +/- 60.0 deg.\n",
      "[ Info: angmin and angmax values are 0, widening these values on branch 590 to +/- 60.0 deg.\n",
      "[ Info: angmin and angmax values are 0, widening these values on branch 17 to +/- 60.0 deg.\n",
      "[ Info: angmin and angmax values are 0, widening these values on branch 333 to +/- 60.0 deg.\n",
      "[ Info: angmin and angmax values are 0, widening these values on branch 550 to +/- 60.0 deg.\n",
      "[ Info: angmin and angmax values are 0, widening these values on branch 341 to +/- 60.0 deg.\n",
      "[ Info: angmin and angmax values are 0, widening these values on branch 664 to +/- 60.0 deg.\n",
      "[ Info: angmin and angmax values are 0, widening these values on branch 912 to +/- 60.0 deg.\n",
      "[ Info: angmin and angmax values are 0, widening these values on branch 1598 to +/- 60.0 deg.\n",
      "[ Info: angmin and angmax values are 0, widening these values on branch 2509 to +/- 60.0 deg.\n",
      "[ Info: angmin and angmax values are 0, widening these values on branch 598 to +/- 60.0 deg.\n",
      "[ Info: angmin and angmax values are 0, widening these values on branch 14 to +/- 60.0 deg.\n",
      "[ Info: angmin and angmax values are 0, widening these values on branch 613 to +/- 60.0 deg.\n",
      "[ Info: angmin and angmax values are 0, widening these values on branch 1052 to +/- 60.0 deg.\n",
      "[ Info: angmin and angmax values are 0, widening these values on branch 2334 to +/- 60.0 deg.\n",
      "[ Info: angmin and angmax values are 0, widening these values on branch 510 to +/- 60.0 deg.\n",
      "[ Info: angmin and angmax values are 0, widening these values on branch 2166 to +/- 60.0 deg.\n",
      "[ Info: angmin and angmax values are 0, widening these values on branch 2585 to +/- 60.0 deg.\n",
      "[ Info: angmin and angmax values are 0, widening these values on branch 2127 to +/- 60.0 deg.\n",
      "[ Info: angmin and angmax values are 0, widening these values on branch 197 to +/- 60.0 deg.\n",
      "[ Info: reversing the orientation of branch 36 (1071, 1019) to be consistent with other parallel branches\n",
      "[ Info: no active generators found at bus 6144, updating to bus type from 2 to 1\n",
      "[ Info: no active generators found at bus 8070, updating to bus type from 2 to 1\n",
      "[ Info: no active generators found at bus 6273, updating to bus type from 2 to 1\n",
      "[ Info: no active generators found at bus 4096, updating to bus type from 2 to 1\n",
      "[ Info: no active generators found at bus 4098, updating to bus type from 2 to 1\n",
      "[ Info: no active generators found at bus 4138, updating to bus type from 2 to 1\n",
      "[ Info: no active generators found at bus 2084, updating to bus type from 2 to 1\n",
      "[ Info: no active generators found at bus 5089, updating to bus type from 2 to 1\n",
      "[ Info: no active generators found at bus 5023, updating to bus type from 2 to 1\n",
      "[ Info: no active generators found at bus 1049, updating to bus type from 2 to 1\n",
      "[ Info: no active generators found at bus 2005, updating to bus type from 2 to 1\n",
      "[ Info: no active generators found at bus 3044, updating to bus type from 2 to 1\n",
      "[ Info: no active generators found at bus 8060, updating to bus type from 2 to 1\n",
      "[ Info: no active generators found at bus 6271, updating to bus type from 2 to 1\n",
      "[ Info: no active generators found at bus 1081, updating to bus type from 2 to 1\n",
      "[ Info: no active generators found at bus 5107, updating to bus type from 2 to 1\n",
      "[ Info: no active generators found at bus 8033, updating to bus type from 2 to 1\n",
      "[ Info: no active generators found at bus 2104, updating to bus type from 2 to 1\n",
      "[ Info: no active generators found at bus 7121, updating to bus type from 2 to 1\n",
      "[ Info: no active generators found at bus 2095, updating to bus type from 2 to 1\n",
      "[ Info: no active generators found at bus 3043, updating to bus type from 2 to 1\n",
      "[ Info: no active generators found at bus 2006, updating to bus type from 2 to 1\n",
      "[ Info: no active generators found at bus 2056, updating to bus type from 2 to 1\n",
      "[ Info: no active generators found at bus 8115, updating to bus type from 2 to 1\n",
      "[ Info: no active generators found at bus 8047, updating to bus type from 2 to 1\n",
      "[ Info: no active generators found at bus 6272, updating to bus type from 2 to 1\n",
      "[ Info: no active generators found at bus 8036, updating to bus type from 2 to 1\n",
      "[ Info: no active generators found at bus 5035, updating to bus type from 2 to 1\n",
      "[ Info: no active generators found at bus 6007, updating to bus type from 2 to 1\n",
      "[ Info: no active generators found at bus 6259, updating to bus type from 2 to 1\n",
      "[ Info: no active generators found at bus 7122, updating to bus type from 2 to 1\n",
      "[ Info: no active generators found at bus 7284, updating to bus type from 2 to 1\n",
      "[ Info: no active generators found at bus 3133, updating to bus type from 2 to 1\n",
      "[ Info: no active generators found at bus 4137, updating to bus type from 2 to 1\n",
      "[ Info: no active generators found at bus 1076, updating to bus type from 2 to 1\n",
      "[ Info: no active generators found at bus 4163, updating to bus type from 2 to 1\n",
      "[ Info: no active generators found at bus 8152, updating to bus type from 2 to 1\n",
      "[ Info: no active generators found at bus 1059, updating to bus type from 2 to 1\n",
      "[ Info: no active generators found at bus 8061, updating to bus type from 2 to 1\n",
      "[ Info: no active generators found at bus 8051, updating to bus type from 2 to 1\n",
      "[ Info: no active generators found at bus 1057, updating to bus type from 2 to 1\n",
      "[ Info: no active generators found at bus 8034, updating to bus type from 2 to 1\n",
      "[ Info: no active generators found at bus 1062, updating to bus type from 2 to 1\n",
      "[ Info: no active generators found at bus 5066, updating to bus type from 2 to 1\n",
      "[ Info: no active generators found at bus 1048, updating to bus type from 2 to 1\n",
      "[ Info: no active generators found at bus 1077, updating to bus type from 2 to 1\n",
      "[ Info: no active generators found at bus 6052, updating to bus type from 2 to 1\n",
      "[ Info: no active generators found at bus 8147, updating to bus type from 2 to 1\n",
      "[ Info: no active generators found at bus 7034, updating to bus type from 2 to 1\n",
      "[ Info: no active generators found at bus 7025, updating to bus type from 2 to 1\n",
      "[ Info: the voltage setpoint on generator 306 does not match the value at bus 6166\n",
      "[ Info: the voltage setpoint on generator 407 does not match the value at bus 7166\n",
      "[ Info: the voltage setpoint on generator 1 does not match the value at bus 1004\n",
      "[ Info: the voltage setpoint on generator 54 does not match the value at bus 2076\n",
      "[ Info: the voltage setpoint on generator 519 does not match the value at bus 8050\n",
      "[ Info: the voltage setpoint on generator 101 does not match the value at bus 3095\n",
      "[ Info: the voltage setpoint on generator 371 does not match the value at bus 7063\n",
      "[ Info: the voltage setpoint on generator 41 does not match the value at bus 2004\n",
      "[ Info: the voltage setpoint on generator 464 does not match the value at bus 7361\n",
      "[ Info: the voltage setpoint on generator 65 does not match the value at bus 2104\n",
      "[ Info: the voltage setpoint on generator 475 does not match the value at bus 7379\n",
      "[ Info: the voltage setpoint on generator 447 does not match the value at bus 7325\n",
      "[ Info: the voltage setpoint on generator 335 does not match the value at bus 6297\n",
      "[ Info: the voltage setpoint on generator 362 does not match the value at bus 7025\n",
      "[ Info: the voltage setpoint on generator 505 does not match the value at bus 7428\n",
      "[ Info: the voltage setpoint on generator 491 does not match the value at bus 7422\n",
      "[ Info: the voltage setpoint on generator 326 does not match the value at bus 6268\n",
      "[ Info: the voltage setpoint on generator 543 does not match the value at bus 8158\n",
      "[ Info: the voltage setpoint on generator 299 does not match the value at bus 6145\n",
      "[ Info: the voltage setpoint on generator 168 does not match the value at bus 4181\n",
      "[ Info: the voltage setpoint on generator 159 does not match the value at bus 4138\n",
      "[ Info: the voltage setpoint on generator 403 does not match the value at bus 7162\n",
      "[ Info: the voltage setpoint on generator 228 does not match the value at bus 5325\n",
      "[ Info: the voltage setpoint on generator 332 does not match the value at bus 6274\n",
      "[ Info: the voltage setpoint on generator 190 does not match the value at bus 5041\n",
      "[ Info: the voltage setpoint on generator 227 does not match the value at bus 5324\n",
      "[ Info: the voltage setpoint on generator 270 does not match the value at bus 6049\n",
      "[ Info: the voltage setpoint on generator 536 does not match the value at bus 8130\n",
      "[ Info: the voltage setpoint on generator 476 does not match the value at bus 7389\n",
      "[ Info: the voltage setpoint on generator 223 does not match the value at bus 5303\n",
      "[ Info: the voltage setpoint on generator 453 does not match the value at bus 7350\n",
      "[ Info: the voltage setpoint on generator 531 does not match the value at bus 8099\n",
      "[ Info: the voltage setpoint on generator 88 does not match the value at bus 3060\n",
      "[ Info: the voltage setpoint on generator 467 does not match the value at bus 7371\n",
      "[ Info: the voltage setpoint on generator 297 does not match the value at bus 6111\n",
      "[ Info: the voltage setpoint on generator 26 does not match the value at bus 1072\n",
      "[ Info: the voltage setpoint on generator 289 does not match the value at bus 6087\n",
      "[ Info: the voltage setpoint on generator 250 does not match the value at bus 5418\n",
      "[ Info: the voltage setpoint on generator 77 does not match the value at bus 3020\n",
      "[ Info: the voltage setpoint on generator 230 does not match the value at bus 5342\n",
      "[ Info: the voltage setpoint on generator 449 does not match the value at bus 7329\n",
      "[ Info: the voltage setpoint on generator 394 does not match the value at bus 7135\n",
      "[ Info: the voltage setpoint on generator 258 does not match the value at bus 5444\n",
      "[ Info: the voltage setpoint on generator 328 does not match the value at bus 6270\n",
      "[ Info: the voltage setpoint on generator 204 does not match the value at bus 5167\n",
      "[ Info: the voltage setpoint on generator 387 does not match the value at bus 7113\n",
      "[ Info: the voltage setpoint on generator 23 does not match the value at bus 1063\n",
      "[ Info: the voltage setpoint on generator 160 does not match the value at bus 4142\n",
      "[ Info: the voltage setpoint on generator 416 does not match the value at bus 7193\n",
      "[ Info: the voltage setpoint on generator 450 does not match the value at bus 7334\n",
      "┌ Info: Constructing System from Power Models\n",
      "│   data[\"name\"] = \"activsg2000\"\n",
      "└   data[\"source_type\"] = \"pti\"\n",
      "[ Info: Reading bus data\n",
      "[ Info: Reading generator data\n",
      "[ Info: Reading branch data\n",
      "[ Info: Reading branch data\n",
      "[ Info: Reading DC Line data\n",
      "[ Info: Reading storage data\n",
      "[ Info: Serialized time series data to /home/runner/.julia/packages/PowerSystemCaseBuilder/XPh1v/data/serialized_system/ForecastOnly/tamu_ACTIVSg2000_sys_time_series_storage.h5.\n",
      "[ Info: Serialized System to /home/runner/.julia/packages/PowerSystemCaseBuilder/XPh1v/data/serialized_system/ForecastOnly/tamu_ACTIVSg2000_sys.json\n"
     ]
    }
   ],
   "cell_type": "code",
   "source": [
    "sys = build_system(PSYTestSystems, \"tamu_ACTIVSg2000_sys\")\n",
    "\n",
    "horizon = 24;\n",
    "interval = Dates.Hour(24);\n",
    "transform_single_time_series!(sys, horizon, interval);"
   ],
   "metadata": {},
   "execution_count": 4
  },
  {
   "cell_type": "markdown",
   "source": [
    "## Run a PCM\n",
    "note that the TAMU data doesn't contain startup and shutdown costs, or minimum up/down\n",
    "time limits, so a UC problem merely respects minmum generation levels."
   ],
   "metadata": {}
  },
  {
   "outputs": [
    {
     "name": "stdout",
     "output_type": "stream",
     "text": [
      "┌ Warning: No Feedforward Chronologies have been defined. This configuration assummes that there is no information passing between problems\n",
      "└ @ PowerSimulations ~/.julia/packages/PowerSimulations/E5zjV/src/core/simulation_sequence.jl:103\n"
     ]
    },
    {
     "output_type": "execute_result",
     "data": {
      "text/plain": "Feed Forward Chronology\n-----------------------\n\nInitial Condition Chronology\n----------------------------\n\n1\n\n"
     },
     "metadata": {},
     "execution_count": 5
    }
   ],
   "cell_type": "code",
   "source": [
    "sim_folder = mkpath(joinpath(pkgpath, \"TAMU-sim\"))\n",
    "problems = SimulationProblems(\n",
    "    UC = OperationsProblem(\n",
    "        template_unit_commitment(transmission = CopperPlatePowerModel),\n",
    "        sys,\n",
    "        optimizer = solver,\n",
    "    ),\n",
    ")\n",
    "intervals = Dict(\"UC\" => (Hour(24), Consecutive()))\n",
    "DA_sequence = SimulationSequence(\n",
    "    problems = problems,\n",
    "    intervals = intervals,\n",
    "    ini_cond_chronology = IntraProblemChronology(),\n",
    ")"
   ],
   "metadata": {},
   "execution_count": 5
  },
  {
   "cell_type": "markdown",
   "source": [
    "### Define and build a simulation"
   ],
   "metadata": {}
  },
  {
   "outputs": [
    {
     "name": "stdout",
     "output_type": "stream",
     "text": [
      "┌ Info: \n",
      "│  ────────────────────────────────────────────────────────────────────────────────\n",
      "│                                         Time                    Allocations      \n",
      "│                                ───────────────────────   ────────────────────────\n",
      "│        Tot / % measured:            9.34s / 100.0%           1.79GiB / 100.0%    \n",
      "│ \n",
      "│  Section               ncalls     time    %tot     avg     alloc    %tot      avg\n",
      "│  ────────────────────────────────────────────────────────────────────────────────\n",
      "│  Build Simulation           1    9.34s  100.0%   9.34s   1.79GiB  100.0%  1.79GiB\n",
      "│    Build Problems           1    7.80s   83.5%   7.80s   1.64GiB   91.4%  1.64GiB\n",
      "│      Problem UC             1    7.52s   80.5%   7.52s   1.62GiB   90.7%  1.62GiB\n",
      "│        PowerSystems...      1    1.39s   14.8%   1.39s    292MiB   15.9%   292MiB\n",
      "│        PowerSystems...      1    1.33s   14.2%   1.33s    111MiB    6.1%   111MiB\n",
      "│        PowerSimulat...      1    220ms    2.4%   220ms   40.4MiB    2.2%  40.4MiB\n",
      "│        Build pre-step       1    104ms    1.1%   104ms   6.68MiB    0.4%  6.68MiB\n",
      "│        Services             1   1.83ms    0.0%  1.83ms   65.4KiB    0.0%  65.4KiB\n",
      "│        Objective            1    762μs    0.0%   762μs    970KiB    0.1%   970KiB\n",
      "│        PowerSystems...      1    250μs    0.0%   250μs   41.4KiB    0.0%  41.4KiB\n",
      "│        PowerSystems...      1    131μs    0.0%   131μs   5.22KiB    0.0%  5.22KiB\n",
      "│        PowerSystems...      1    123μs    0.0%   123μs   5.22KiB    0.0%  5.22KiB\n",
      "│        PowerSystems...      1   29.8μs    0.0%  29.8μs   5.22KiB    0.0%  5.22KiB\n",
      "│        PowerSystems...      1   28.0μs    0.0%  28.0μs   5.20KiB    0.0%  5.20KiB\n",
      "│        PowerSystems...      1   27.4μs    0.0%  27.4μs   5.20KiB    0.0%  5.20KiB\n",
      "│        PowerSystems...      1   7.50μs    0.0%  7.50μs     64.0B    0.0%    64.0B\n",
      "│        PowerSystems...      1   2.30μs    0.0%  2.30μs     64.0B    0.0%    64.0B\n",
      "│        PowerSystems...      1   2.20μs    0.0%  2.20μs     64.0B    0.0%    64.0B\n",
      "│    Serializing Simu...      1    566ms    6.1%   566ms    111MiB    6.0%   111MiB\n",
      "│    Check Steps              1    168ms    1.8%   168ms   18.9MiB    1.0%  18.9MiB\n",
      "│    Assign FeedForward       1   76.4ms    0.8%  76.4ms   13.2MiB    0.7%  13.2MiB\n",
      "│    Initialize Simul...      1   22.6ms    0.2%  22.6ms    531KiB    0.0%   531KiB\n",
      "└  ────────────────────────────────────────────────────────────────────────────────\n"
     ]
    },
    {
     "output_type": "execute_result",
     "data": {
      "text/plain": "PowerSimulations.BuildStatusModule.BuildStatus.BUILT = 0"
     },
     "metadata": {},
     "execution_count": 6
    }
   ],
   "cell_type": "code",
   "source": [
    "sim = Simulation(\n",
    "    name = \"TAMU-test\",\n",
    "    steps = 3,\n",
    "    problems = problems,\n",
    "    sequence = DA_sequence,\n",
    "    simulation_folder = sim_folder,\n",
    ")\n",
    "\n",
    "build!(sim)"
   ],
   "metadata": {},
   "execution_count": 6
  },
  {
   "cell_type": "markdown",
   "source": [
    "### Execute the simulation"
   ],
   "metadata": {}
  },
  {
   "outputs": [
    {
     "output_type": "execute_result",
     "data": {
      "text/plain": "PowerSimulations.RunStatusModule.RunStatus.SUCCESSFUL = 0"
     },
     "metadata": {},
     "execution_count": 7
    }
   ],
   "cell_type": "code",
   "source": [
    "execute!(sim)"
   ],
   "metadata": {},
   "execution_count": 7
  },
  {
   "cell_type": "markdown",
   "source": [
    "### Load and analyze results"
   ],
   "metadata": {}
  },
  {
   "outputs": [
    {
     "name": "stdout",
     "output_type": "stream",
     "text": [
      "[ Info: checking integrity of simulation_store.h5\n",
      "[ Info: reading variables from data store\n"
     ]
    },
    {
     "output_type": "execute_result",
     "data": {
      "text/plain": "72×545 DataFrame\n Row │ DateTime             generator-1004-1  generator-1006-1  generator-1009 ⋯\n     │ DateTime             Float64           Float64           Float64        ⋯\n─────┼──────────────────────────────────────────────────────────────────────────\n   1 │ 2016-01-01T00:00:00               1.0               1.0               1 ⋯\n   2 │ 2016-01-01T01:00:00               1.0               1.0               1\n   3 │ 2016-01-01T02:00:00               1.0               1.0               1\n   4 │ 2016-01-01T03:00:00               1.0               1.0               1\n   5 │ 2016-01-01T04:00:00               1.0               1.0               1 ⋯\n   6 │ 2016-01-01T05:00:00               1.0               1.0               1\n   7 │ 2016-01-01T06:00:00               1.0               1.0               1\n   8 │ 2016-01-01T07:00:00               1.0               1.0               1\n  ⋮  │          ⋮                  ⋮                 ⋮                 ⋮       ⋱\n  66 │ 2016-01-03T17:00:00               1.0               1.0               1 ⋯\n  67 │ 2016-01-03T18:00:00               1.0               1.0               1\n  68 │ 2016-01-03T19:00:00               1.0               1.0               1\n  69 │ 2016-01-03T20:00:00               1.0               1.0               1\n  70 │ 2016-01-03T21:00:00               1.0               1.0               1 ⋯\n  71 │ 2016-01-03T22:00:00               1.0               1.0               1\n  72 │ 2016-01-03T23:00:00               1.0               1.0               1\n                                                 542 columns and 57 rows omitted",
      "text/html": [
       "<div class=\"data-frame\"><p>72 rows × 545 columns (omitted printing of 540 columns)</p><table class=\"data-frame\"><thead><tr><th></th><th>DateTime</th><th>generator-1004-1</th><th>generator-1006-1</th><th>generator-1009-1</th><th>generator-1011-1</th></tr><tr><th></th><th title=\"Dates.DateTime\">DateTime</th><th title=\"Float64\">Float64</th><th title=\"Float64\">Float64</th><th title=\"Float64\">Float64</th><th title=\"Float64\">Float64</th></tr></thead><tbody><tr><th>1</th><td>2016-01-01T00:00:00</td><td>1.0</td><td>1.0</td><td>1.0</td><td>1.0</td></tr><tr><th>2</th><td>2016-01-01T01:00:00</td><td>1.0</td><td>1.0</td><td>1.0</td><td>1.0</td></tr><tr><th>3</th><td>2016-01-01T02:00:00</td><td>1.0</td><td>1.0</td><td>1.0</td><td>1.0</td></tr><tr><th>4</th><td>2016-01-01T03:00:00</td><td>1.0</td><td>1.0</td><td>1.0</td><td>1.0</td></tr><tr><th>5</th><td>2016-01-01T04:00:00</td><td>1.0</td><td>1.0</td><td>1.0</td><td>1.0</td></tr><tr><th>6</th><td>2016-01-01T05:00:00</td><td>1.0</td><td>1.0</td><td>1.0</td><td>1.0</td></tr><tr><th>7</th><td>2016-01-01T06:00:00</td><td>1.0</td><td>1.0</td><td>1.0</td><td>1.0</td></tr><tr><th>8</th><td>2016-01-01T07:00:00</td><td>1.0</td><td>1.0</td><td>1.0</td><td>1.0</td></tr><tr><th>9</th><td>2016-01-01T08:00:00</td><td>1.0</td><td>1.0</td><td>1.0</td><td>1.0</td></tr><tr><th>10</th><td>2016-01-01T09:00:00</td><td>1.0</td><td>1.0</td><td>1.0</td><td>1.0</td></tr><tr><th>11</th><td>2016-01-01T10:00:00</td><td>1.0</td><td>1.0</td><td>1.0</td><td>1.0</td></tr><tr><th>12</th><td>2016-01-01T11:00:00</td><td>1.0</td><td>1.0</td><td>1.0</td><td>1.0</td></tr><tr><th>13</th><td>2016-01-01T12:00:00</td><td>1.0</td><td>1.0</td><td>1.0</td><td>1.0</td></tr><tr><th>14</th><td>2016-01-01T13:00:00</td><td>1.0</td><td>1.0</td><td>1.0</td><td>1.0</td></tr><tr><th>15</th><td>2016-01-01T14:00:00</td><td>1.0</td><td>1.0</td><td>1.0</td><td>1.0</td></tr><tr><th>16</th><td>2016-01-01T15:00:00</td><td>1.0</td><td>1.0</td><td>1.0</td><td>1.0</td></tr><tr><th>17</th><td>2016-01-01T16:00:00</td><td>1.0</td><td>1.0</td><td>1.0</td><td>1.0</td></tr><tr><th>18</th><td>2016-01-01T17:00:00</td><td>1.0</td><td>1.0</td><td>1.0</td><td>1.0</td></tr><tr><th>19</th><td>2016-01-01T18:00:00</td><td>1.0</td><td>1.0</td><td>1.0</td><td>1.0</td></tr><tr><th>20</th><td>2016-01-01T19:00:00</td><td>1.0</td><td>1.0</td><td>1.0</td><td>1.0</td></tr><tr><th>21</th><td>2016-01-01T20:00:00</td><td>1.0</td><td>1.0</td><td>1.0</td><td>1.0</td></tr><tr><th>22</th><td>2016-01-01T21:00:00</td><td>1.0</td><td>1.0</td><td>1.0</td><td>1.0</td></tr><tr><th>23</th><td>2016-01-01T22:00:00</td><td>1.0</td><td>1.0</td><td>1.0</td><td>1.0</td></tr><tr><th>24</th><td>2016-01-01T23:00:00</td><td>1.0</td><td>1.0</td><td>1.0</td><td>1.0</td></tr><tr><th>&vellip;</th><td>&vellip;</td><td>&vellip;</td><td>&vellip;</td><td>&vellip;</td><td>&vellip;</td></tr></tbody></table></div>"
      ]
     },
     "metadata": {},
     "execution_count": 8
    }
   ],
   "cell_type": "code",
   "source": [
    "sim_results = SimulationResults(sim);\n",
    "uc_results = get_problem_results(sim_results, \"UC\")\n",
    "read_realized_variables(uc_results, names = [:On__ThermalStandard])[:On__ThermalStandard]"
   ],
   "metadata": {},
   "execution_count": 8
  },
  {
   "cell_type": "markdown",
   "source": [
    "---\n",
    "\n",
    "*This notebook was generated using [Literate.jl](https://github.com/fredrikekre/Literate.jl).*"
   ],
   "metadata": {}
  }
 ],
 "nbformat_minor": 3,
 "metadata": {
  "language_info": {
   "file_extension": ".jl",
   "mimetype": "application/julia",
   "name": "julia",
   "version": "1.7.1"
  },
  "kernelspec": {
   "name": "julia-1.7",
   "display_name": "Julia 1.7.1",
   "language": "julia"
  }
 },
 "nbformat": 4
}
